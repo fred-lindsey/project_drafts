{
 "cells": [
  {
   "cell_type": "code",
   "execution_count": 1,
   "id": "c0957234-ba57-4199-adfa-9d17ede0b8f9",
   "metadata": {},
   "outputs": [
    {
     "data": {
      "application/vnd.jupyter.widget-view+json": {
       "model_id": "c9a16199dfce4880b070a2e822239acd",
       "version_major": 2,
       "version_minor": 0
      },
      "text/plain": [
       "MitoWidget(analysis_data_json='{\"analysisName\": \"id-hfxxyrimgo\", \"analysisToReplay\": null, \"code\": [], \"stepSu…"
      ]
     },
     "metadata": {},
     "output_type": "display_data"
    }
   ],
   "source": [
    "# Run this cell to render a mitosheet\n",
    "# See mito's documentation here: https://docs.trymito.io/how-to/creating-a-mitosheet\n",
    "# Join our Discord for support here: https://discord.gg/XdJSZyejJU\n",
    "\n",
    "import mitosheet\n",
    "mitosheet.sheet(analysis_to_replay=\"id-hfxxyrimgo\")"
   ]
  },
  {
   "cell_type": "code",
   "execution_count": 6,
   "id": "54b044b8",
   "metadata": {},
   "outputs": [
    {
     "data": {
      "text/html": [
       "<iframe\n",
       "    scrolling=\"no\"\n",
       "    width=\"100%\"\n",
       "    height=\"545px\"\n",
       "    src=\"iframe_figures/figure_6.html\"\n",
       "    frameborder=\"0\"\n",
       "    allowfullscreen\n",
       "></iframe>\n"
      ]
     },
     "metadata": {},
     "output_type": "display_data"
    }
   ],
   "source": [
    "from mitosheet import *; register_analysis(\"id-hfxxyrimgo\");\n",
    "    \n",
    "# Imported telco_churn_new.csv\n",
    "import pandas as pd\n",
    "telco_churn_new = pd.read_csv(r'/Users/frederik.lindsey/Home/codeup-data-science/statistics-exercises/telco_churn_new.csv')\n",
    "\n",
    "import plotly.express as px\n",
    "\n",
    "# Filter the dataframe so that it does not crash the browser\n",
    "telco_churn_new_filtered = telco_churn_new.head(1000)\n",
    "\n",
    "# Construct the graph and style it. Further customize your graph by editing this code.\n",
    "# See Plotly Documentation for help: https://plotly.com/python/plotly-express/\n",
    "\n",
    "fig = px.bar(telco_churn_new_filtered, x='gender', y='partner')\n",
    "fig.update_layout(\n",
    "    title='gender, partner (first 1000 rows) bar chart', \n",
    "    xaxis = dict(\n",
    "        rangeslider = dict(\n",
    "            visible=True, \n",
    "            thickness=0.05\n",
    "        )\n",
    "    ), \n",
    "    yaxis = dict(\n",
    "\n",
    "    ), \n",
    "    barmode='group', \n",
    "    paper_bgcolor='#FFFFFF', \n",
    "    showlegend=True\n",
    ")\n",
    "fig.show(renderer=\"iframe\")\n"
   ]
  },
  {
   "cell_type": "code",
   "execution_count": null,
   "id": "f6efdab5",
   "metadata": {},
   "outputs": [],
   "source": []
  }
 ],
 "metadata": {
  "kernelspec": {
   "display_name": "Python 3 (ipykernel)",
   "language": "python",
   "name": "python3"
  },
  "language_info": {
   "codemirror_mode": {
    "name": "ipython",
    "version": 3
   },
   "file_extension": ".py",
   "mimetype": "text/x-python",
   "name": "python",
   "nbconvert_exporter": "python",
   "pygments_lexer": "ipython3",
   "version": "3.9.7"
  },
  "widgets": {
   "application/vnd.jupyter.widget-state+json": {
    "state": {},
    "version_major": 2,
    "version_minor": 0
   }
  }
 },
 "nbformat": 4,
 "nbformat_minor": 5
}
