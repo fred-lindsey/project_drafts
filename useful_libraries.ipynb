{
 "cells": [
  {
   "cell_type": "markdown",
   "id": "3b641989",
   "metadata": {},
   "source": [
    "## Prediciton Libraries:\n",
    "facebook prophet: line fitting/trend prediction"
   ]
  },
  {
   "cell_type": "markdown",
   "id": "722c2d68",
   "metadata": {},
   "source": [
    "## HOW TO: import a db from SQL:\n",
    "import env\n",
    "from env import get_db_url\n",
    "url = get_db_url('employees')\n",
    "df = pd.read_sql(\"SELECT * FROM employees\", url)\n",
    "df.head()"
   ]
  }
 ],
 "metadata": {
  "kernelspec": {
   "display_name": "Python 3 (ipykernel)",
   "language": "python",
   "name": "python3"
  },
  "language_info": {
   "codemirror_mode": {
    "name": "ipython",
    "version": 3
   },
   "file_extension": ".py",
   "mimetype": "text/x-python",
   "name": "python",
   "nbconvert_exporter": "python",
   "pygments_lexer": "ipython3",
   "version": "3.9.7"
  }
 },
 "nbformat": 4,
 "nbformat_minor": 5
}
