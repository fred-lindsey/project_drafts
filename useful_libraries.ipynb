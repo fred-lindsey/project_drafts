{
 "cells": [
  {
   "cell_type": "markdown",
   "id": "713d40fc",
   "metadata": {},
   "source": [
    "## Prediction Libraries:\n",
    "facebook prophet: line fitting/trend prediction"
   ]
  },
  {
   "cell_type": "markdown",
   "id": "d9fde824",
   "metadata": {},
   "source": [
    "## HOW TO: import a db from SQL:"
   ]
  },
  {
   "cell_type": "code",
   "execution_count": null,
   "id": "db57ec6c",
   "metadata": {},
   "outputs": [],
   "source": [
    "import env\n",
    "from env import get_db_url\n",
    "url = get_db_url('employees')\n",
    "df = pd.read_sql(\"SELECT * FROM employees\", url)\n",
    "df.head()"
   ]
  },
  {
   "cell_type": "markdown",
   "id": "2f4c0316",
   "metadata": {},
   "source": [
    "#### Note: **Make sure the env file is in the same directory as the notebook you are working on**"
   ]
  },
  {
   "cell_type": "markdown",
   "id": "15420ed1",
   "metadata": {},
   "source": [
    "## Stats tests (T-test, Pearson R, Chi Squared)"
   ]
  },
  {
   "cell_type": "code",
   "execution_count": null,
   "id": "5b72d049",
   "metadata": {},
   "outputs": [],
   "source": [
    "import pandas as pd\n",
    "from scipy import stats\n",
    "from pydataset import data"
   ]
  }
 ],
 "metadata": {
  "kernelspec": {
   "display_name": "Python 3 (ipykernel)",
   "language": "python",
   "name": "python3"
  },
  "language_info": {
   "codemirror_mode": {
    "name": "ipython",
    "version": 3
   },
   "file_extension": ".py",
   "mimetype": "text/x-python",
   "name": "python",
   "nbconvert_exporter": "python",
   "pygments_lexer": "ipython3",
   "version": "3.9.7"
  }
 },
 "nbformat": 4,
 "nbformat_minor": 5
}
